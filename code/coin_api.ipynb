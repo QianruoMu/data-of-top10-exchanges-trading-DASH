{
 "cells": [
  {
   "cell_type": "markdown",
   "metadata": {},
   "source": [
    "CoinAPI.io offers a free tier that consists in 100 daily requests. "
   ]
  },
  {
   "cell_type": "code",
   "execution_count": 1,
   "metadata": {},
   "outputs": [],
   "source": [
    "import os\n",
    "import requests\n",
    "import pandas as pd\n",
    "import numpy as np\n",
    "\n",
    "import matplotlib.pyplot as plt\n",
    "\n",
    "%matplotlib inline"
   ]
  },
  {
   "cell_type": "markdown",
   "metadata": {},
   "source": [
    "#### API Authentication¶\n",
    "get a free API key from CoinAPI: https://www.coinapi.io/pricing?apikey. \n",
    "\n",
    "My key: EE69C22E-BF60-4DCD-88A5-EF686A8E8EBF"
   ]
  },
  {
   "cell_type": "code",
   "execution_count": 2,
   "metadata": {},
   "outputs": [],
   "source": [
    "API_KEY = os.environ.get('COINAPI_KEY', 'EE69C22E-BF60-4DCD-88A5-EF686A8E8EBF')"
   ]
  },
  {
   "cell_type": "code",
   "execution_count": 3,
   "metadata": {},
   "outputs": [],
   "source": [
    "headers = {\n",
    "    'X-CoinAPI-Key': API_KEY\n",
    "}"
   ]
  },
  {
   "cell_type": "markdown",
   "metadata": {
    "collapsed": true
   },
   "source": [
    "#### Symbols"
   ]
  },
  {
   "cell_type": "code",
   "execution_count": 8,
   "metadata": {},
   "outputs": [],
   "source": [
    "resp = requests.get(\n",
    "    'https://rest.coinapi.io/v1/symbols',\n",
    "     params={\n",
    "         'filter_symbol_id': 'dash'\n",
    "     },\n",
    "     headers = headers)"
   ]
  },
  {
   "cell_type": "code",
   "execution_count": 9,
   "metadata": {},
   "outputs": [],
   "source": [
    "symbols = resp.json()"
   ]
  },
  {
   "cell_type": "code",
   "execution_count": 10,
   "metadata": {},
   "outputs": [
    {
     "data": {
      "text/plain": [
       "[{'symbol_id': 'BITFOREX_SPOT_DASH_USDT',\n",
       "  'exchange_id': 'BITFOREX',\n",
       "  'symbol_type': 'SPOT',\n",
       "  'asset_id_base': 'DASH',\n",
       "  'asset_id_quote': 'USDT',\n",
       "  'data_start': '2018-10-29',\n",
       "  'data_end': '2020-06-10',\n",
       "  'data_quote_start': '2018-10-29T07:17:45.8432560Z',\n",
       "  'data_quote_end': '2020-06-10T01:51:38.9824342Z',\n",
       "  'data_orderbook_start': '2018-10-29T07:17:45.8432560Z',\n",
       "  'data_orderbook_end': '2020-05-10T21:40:07.6945968Z',\n",
       "  'data_trade_start': '2018-10-29T07:13:08.1230000Z',\n",
       "  'data_trade_end': '2020-06-10T01:57:51.7230000Z',\n",
       "  'volume_1hrs': 27667.6073,\n",
       "  'volume_1hrs_usd': 2052058.73,\n",
       "  'volume_1day': 729695.6644,\n",
       "  'volume_1day_usd': 54120269.44,\n",
       "  'volume_1mth': 18612056.1072,\n",
       "  'volume_1mth_usd': 1380424114.55,\n",
       "  'price': 74.17836},\n",
       " {'symbol_id': 'BITFOREX_SPOT_DASH_BTC',\n",
       "  'exchange_id': 'BITFOREX',\n",
       "  'symbol_type': 'SPOT',\n",
       "  'asset_id_base': 'DASH',\n",
       "  'asset_id_quote': 'BTC',\n",
       "  'data_start': '2018-10-29',\n",
       "  'data_end': '2020-06-10',\n",
       "  'data_quote_start': '2018-10-29T07:17:49.0711565Z',\n",
       "  'data_quote_end': '2020-06-10T01:50:50.0870468Z',\n",
       "  'data_orderbook_start': '2018-10-29T07:17:49.0711565Z',\n",
       "  'data_orderbook_end': '2020-05-10T21:40:06.8682229Z',\n",
       "  'data_trade_start': '2018-10-29T07:17:56.9740000Z',\n",
       "  'data_trade_end': '2020-06-10T01:49:55.5310000Z',\n",
       "  'volume_1hrs': 24678.9456,\n",
       "  'volume_1hrs_usd': 1830394.85,\n",
       "  'volume_1day': 591348.9843,\n",
       "  'volume_1day_usd': 43859334.69,\n",
       "  'volume_1mth': 17276527.7194,\n",
       "  'volume_1mth_usd': 1281370276.46,\n",
       "  'price': 0.007871975}]"
      ]
     },
     "execution_count": 10,
     "metadata": {},
     "output_type": "execute_result"
    }
   ],
   "source": [
    "symbols[:2]"
   ]
  },
  {
   "cell_type": "markdown",
   "metadata": {},
   "source": [
    "#### OHLCV (Open High Low Close Volume)"
   ]
  },
  {
   "cell_type": "code",
   "execution_count": 12,
   "metadata": {},
   "outputs": [],
   "source": [
    "symbol_id = 'BITSTAMP_SPOT_BTC_USD'\n",
    "period_id = '1MIN'\n",
    "limit = '100'\n",
    "\n",
    "resp = requests.get(\n",
    "    f'https://rest.coinapi.io/v1/ohlcv/{symbol_id}/latest?period_id={period_id}&limit={limit}',\n",
    "    headers=headers)"
   ]
  },
  {
   "cell_type": "code",
   "execution_count": 13,
   "metadata": {},
   "outputs": [],
   "source": [
    "data = pd.read_json(resp.text, orient='records', dtype={\n",
    "    'time_close': np.datetime64,\n",
    "    'time_open': np.datetime64,\n",
    "    'time_period_end': np.datetime64,\n",
    "    'time_period_start': np.datetime64,\n",
    "})"
   ]
  },
  {
   "cell_type": "code",
   "execution_count": 14,
   "metadata": {},
   "outputs": [
    {
     "data": {
      "text/html": [
       "<div>\n",
       "<style scoped>\n",
       "    .dataframe tbody tr th:only-of-type {\n",
       "        vertical-align: middle;\n",
       "    }\n",
       "\n",
       "    .dataframe tbody tr th {\n",
       "        vertical-align: top;\n",
       "    }\n",
       "\n",
       "    .dataframe thead th {\n",
       "        text-align: right;\n",
       "    }\n",
       "</style>\n",
       "<table border=\"1\" class=\"dataframe\">\n",
       "  <thead>\n",
       "    <tr style=\"text-align: right;\">\n",
       "      <th></th>\n",
       "      <th>time_period_start</th>\n",
       "      <th>time_period_end</th>\n",
       "      <th>time_open</th>\n",
       "      <th>time_close</th>\n",
       "      <th>price_open</th>\n",
       "      <th>price_high</th>\n",
       "      <th>price_low</th>\n",
       "      <th>price_close</th>\n",
       "      <th>volume_traded</th>\n",
       "      <th>trades_count</th>\n",
       "    </tr>\n",
       "  </thead>\n",
       "  <tbody>\n",
       "    <tr>\n",
       "      <th>0</th>\n",
       "      <td>2020-06-12 16:18:00</td>\n",
       "      <td>2020-06-12 16:19:00</td>\n",
       "      <td>2020-06-12 16:18:01.124</td>\n",
       "      <td>2020-06-12 16:18:32.304</td>\n",
       "      <td>9434.11</td>\n",
       "      <td>9434.11</td>\n",
       "      <td>9429.09</td>\n",
       "      <td>9433.96</td>\n",
       "      <td>1.332693</td>\n",
       "      <td>6</td>\n",
       "    </tr>\n",
       "    <tr>\n",
       "      <th>1</th>\n",
       "      <td>2020-06-12 16:17:00</td>\n",
       "      <td>2020-06-12 16:18:00</td>\n",
       "      <td>2020-06-12 16:17:04.180</td>\n",
       "      <td>2020-06-12 16:17:24.452</td>\n",
       "      <td>9432.51</td>\n",
       "      <td>9432.51</td>\n",
       "      <td>9426.38</td>\n",
       "      <td>9426.38</td>\n",
       "      <td>7.868103</td>\n",
       "      <td>29</td>\n",
       "    </tr>\n",
       "    <tr>\n",
       "      <th>2</th>\n",
       "      <td>2020-06-12 16:16:00</td>\n",
       "      <td>2020-06-12 16:17:00</td>\n",
       "      <td>2020-06-12 16:16:01.317</td>\n",
       "      <td>2020-06-12 16:16:40.823</td>\n",
       "      <td>9431.97</td>\n",
       "      <td>9439.87</td>\n",
       "      <td>9427.21</td>\n",
       "      <td>9438.25</td>\n",
       "      <td>116.417117</td>\n",
       "      <td>162</td>\n",
       "    </tr>\n",
       "    <tr>\n",
       "      <th>3</th>\n",
       "      <td>2020-06-12 16:15:00</td>\n",
       "      <td>2020-06-12 16:16:00</td>\n",
       "      <td>2020-06-12 16:15:43.441</td>\n",
       "      <td>2020-06-12 16:15:43.441</td>\n",
       "      <td>9428.55</td>\n",
       "      <td>9428.55</td>\n",
       "      <td>9428.55</td>\n",
       "      <td>9428.55</td>\n",
       "      <td>1.500000</td>\n",
       "      <td>1</td>\n",
       "    </tr>\n",
       "    <tr>\n",
       "      <th>4</th>\n",
       "      <td>2020-06-12 16:14:00</td>\n",
       "      <td>2020-06-12 16:15:00</td>\n",
       "      <td>2020-06-12 16:14:27.782</td>\n",
       "      <td>2020-06-12 16:14:27.782</td>\n",
       "      <td>9418.79</td>\n",
       "      <td>9418.79</td>\n",
       "      <td>9418.79</td>\n",
       "      <td>9418.79</td>\n",
       "      <td>0.007545</td>\n",
       "      <td>1</td>\n",
       "    </tr>\n",
       "  </tbody>\n",
       "</table>\n",
       "</div>"
      ],
      "text/plain": [
       "    time_period_start     time_period_end               time_open  \\\n",
       "0 2020-06-12 16:18:00 2020-06-12 16:19:00 2020-06-12 16:18:01.124   \n",
       "1 2020-06-12 16:17:00 2020-06-12 16:18:00 2020-06-12 16:17:04.180   \n",
       "2 2020-06-12 16:16:00 2020-06-12 16:17:00 2020-06-12 16:16:01.317   \n",
       "3 2020-06-12 16:15:00 2020-06-12 16:16:00 2020-06-12 16:15:43.441   \n",
       "4 2020-06-12 16:14:00 2020-06-12 16:15:00 2020-06-12 16:14:27.782   \n",
       "\n",
       "               time_close  price_open  price_high  price_low  price_close  \\\n",
       "0 2020-06-12 16:18:32.304     9434.11     9434.11    9429.09      9433.96   \n",
       "1 2020-06-12 16:17:24.452     9432.51     9432.51    9426.38      9426.38   \n",
       "2 2020-06-12 16:16:40.823     9431.97     9439.87    9427.21      9438.25   \n",
       "3 2020-06-12 16:15:43.441     9428.55     9428.55    9428.55      9428.55   \n",
       "4 2020-06-12 16:14:27.782     9418.79     9418.79    9418.79      9418.79   \n",
       "\n",
       "   volume_traded  trades_count  \n",
       "0       1.332693             6  \n",
       "1       7.868103            29  \n",
       "2     116.417117           162  \n",
       "3       1.500000             1  \n",
       "4       0.007545             1  "
      ]
     },
     "execution_count": 14,
     "metadata": {},
     "output_type": "execute_result"
    }
   ],
   "source": [
    "data.head()"
   ]
  },
  {
   "cell_type": "code",
   "execution_count": 15,
   "metadata": {},
   "outputs": [],
   "source": [
    "data.set_index('time_period_start', inplace=True)"
   ]
  },
  {
   "cell_type": "code",
   "execution_count": 16,
   "metadata": {},
   "outputs": [
    {
     "data": {
      "text/plain": [
       "<matplotlib.axes._subplots.AxesSubplot at 0x11cd76a90>"
      ]
     },
     "execution_count": 16,
     "metadata": {},
     "output_type": "execute_result"
    },
    {
     "data": {
      "image/png": "[encoded data removed]",
      "text/plain": [
       "<Figure size 1008x504 with 1 Axes>"
      ]
     },
     "metadata": {
      "needs_background": "light"
     },
     "output_type": "display_data"
    }
   ],
   "source": [
    "data['price_close'].plot(figsize=(14, 7))\n"
   ]
  },
  {
   "cell_type": "markdown",
   "metadata": {},
   "source": [
    "#### Order Book - Latest data"
   ]
  },
  {
   "cell_type": "code",
   "execution_count": 19,
   "metadata": {},
   "outputs": [],
   "source": [
    "url = 'https://rest.coinapi.io/v1/orderbooks/CATEX_SPOT_DASH_TRX/latest'\n",
    "response = requests.get(url, headers=headers)"
   ]
  },
  {
   "cell_type": "code",
   "execution_count": 20,
   "metadata": {},
   "outputs": [
    {
     "data": {
      "text/plain": [
       "[{'symbol_id': 'CATEX_SPOT_DASH_TRX',\n",
       "  'time_exchange': '2020-05-10T21:46:42.9676031Z',\n",
       "  'time_coinapi': '2020-05-10T21:46:42.9676031Z',\n",
       "  'asks': [{'price': 5072.484166, 'size': 46.5645496},\n",
       "   {'price': 5081.69014, 'size': 1.3457761},\n",
       "   {'price': 5082.848837, 'size': 0.04},\n",
       "   {'price': 5092.41, 'size': 31.31},\n",
       "   {'price': 5095.75, 'size': 66.7474},\n",
       "   {'price': 5109.34, 'size': 8.79},\n",
       "   {'price': 5110.7, 'size': 19.5244},\n",
       "   {'price': 5122.83, 'size': 54.0},\n",
       "   {'price': 5125.44, 'size': 39.57675},\n",
       "   {'price': 5125.46, 'size': 35.2127},\n",
       "   {'price': 5126.377663, 'size': 28.4631},\n",
       "   {'price': 5127.67, 'size': 55.374},\n",
       "   {'price': 5130.43, 'size': 52.444},\n",
       "   {'price': 5131.31, 'size': 41.504},\n",
       "   {'price': 5135.21, 'size': 45.7},\n",
       "   {'price': 5145.47, 'size': 35.0},\n",
       "   {'price': 5155.44, 'size': 62.1},\n",
       "   {'price': 5157.29, 'size': 38.0273},\n",
       "   {'price': 5160.82, 'size': 61.27691},\n",
       "   {'price': 5164.39, 'size': 51.326}],\n",
       "  'bids': [{'price': 5063.859649, 'size': 0.6999522},\n",
       "   {'price': 5047.652417, 'size': 0.921},\n",
       "   {'price': 5046.283309, 'size': 0.730533},\n",
       "   {'price': 5031.029619, 'size': 21.34992},\n",
       "   {'price': 5029.49, 'size': 41.40792},\n",
       "   {'price': 5028.95, 'size': 37.5},\n",
       "   {'price': 5028.11, 'size': 62.27},\n",
       "   {'price': 5027.464788, 'size': 28.2789},\n",
       "   {'price': 5026.056338, 'size': 0.876},\n",
       "   {'price': 5024.38, 'size': 26.0},\n",
       "   {'price': 5022.535211, 'size': 23.96},\n",
       "   {'price': 5021.63, 'size': 17.59118},\n",
       "   {'price': 5016.52, 'size': 20.8},\n",
       "   {'price': 5015.8, 'size': 29.8995},\n",
       "   {'price': 5010.62, 'size': 7.0},\n",
       "   {'price': 5010.0, 'size': 16.1},\n",
       "   {'price': 5007.98, 'size': 23.02},\n",
       "   {'price': 5004.25, 'size': 6.177},\n",
       "   {'price': 5003.32, 'size': 44.737689},\n",
       "   {'price': 5003.19, 'size': 18.0478}]},\n",
       " {'symbol_id': 'CATEX_SPOT_DASH_TRX',\n",
       "  'time_exchange': '2020-05-10T15:53:16.3824198Z',\n",
       "  'time_coinapi': '2020-05-10T15:53:16.3824198Z',\n",
       "  'asks': [{'price': 5099.356683, 'size': 0.4620462},\n",
       "   {'price': 5104.195804, 'size': 6e-07},\n",
       "   {'price': 5105.775922, 'size': 21.7815907},\n",
       "   {'price': 5106.442577, 'size': 31.7},\n",
       "   {'price': 5110.76, 'size': 44.0},\n",
       "   {'price': 5115.53, 'size': 14.071758},\n",
       "   {'price': 5116.76, 'size': 15.23329},\n",
       "   {'price': 5118.060435, 'size': 0.2},\n",
       "   {'price': 5118.763176, 'size': 0.0317},\n",
       "   {'price': 5125.46, 'size': 35.2127},\n",
       "   {'price': 5127.67, 'size': 55.374},\n",
       "   {'price': 5130.43, 'size': 52.444},\n",
       "   {'price': 5131.31, 'size': 41.504},\n",
       "   {'price': 5135.21, 'size': 45.7},\n",
       "   {'price': 5145.47, 'size': 35.0},\n",
       "   {'price': 5155.44, 'size': 62.1},\n",
       "   {'price': 5157.29, 'size': 38.0273},\n",
       "   {'price': 5160.82, 'size': 61.27691},\n",
       "   {'price': 5164.39, 'size': 51.326},\n",
       "   {'price': 5164.41, 'size': 63.1}],\n",
       "  'bids': [{'price': 5049.894588, 'size': 0.05},\n",
       "   {'price': 5049.019607, 'size': 0.049084},\n",
       "   {'price': 5048.285514, 'size': 0.8000005},\n",
       "   {'price': 5047.652417, 'size': 0.2985},\n",
       "   {'price': 5044.880785, 'size': 34.3275684},\n",
       "   {'price': 5041.549295, 'size': 0.1},\n",
       "   {'price': 5039.6, 'size': 4.8127},\n",
       "   {'price': 5031.94, 'size': 49.31992},\n",
       "   {'price': 5029.49, 'size': 41.40792},\n",
       "   {'price': 5028.95, 'size': 37.5},\n",
       "   {'price': 5028.11, 'size': 62.27},\n",
       "   {'price': 5026.056338, 'size': 0.876},\n",
       "   {'price': 5024.38, 'size': 26.0},\n",
       "   {'price': 5022.535211, 'size': 23.96},\n",
       "   {'price': 5021.63, 'size': 17.59118},\n",
       "   {'price': 5016.52, 'size': 20.8},\n",
       "   {'price': 5015.8, 'size': 29.8995},\n",
       "   {'price': 5010.62, 'size': 7.0},\n",
       "   {'price': 5003.32, 'size': 44.737689},\n",
       "   {'price': 5003.19, 'size': 18.0478}]}]"
      ]
     },
     "execution_count": 20,
     "metadata": {},
     "output_type": "execute_result"
    }
   ],
   "source": [
    "order = response.json()\n",
    "order[:2]"
   ]
  },
  {
   "cell_type": "markdown",
   "metadata": {},
   "source": [
    "#### Order Book - History data"
   ]
  },
  {
   "cell_type": "code",
   "execution_count": 21,
   "metadata": {},
   "outputs": [],
   "source": [
    "url = 'https://rest.coinapi.io/v1/orderbooks/CATEX_SPOT_DASH_TRX/history?time_start=2016-01-01T00:00:00'\n",
    "res = requests.get(url, headers=headers)"
   ]
  },
  {
   "cell_type": "code",
   "execution_count": 22,
   "metadata": {},
   "outputs": [
    {
     "data": {
      "text/plain": [
       "[{'symbol_id': 'CATEX_SPOT_DASH_TRX',\n",
       "  'time_exchange': '2019-10-02T08:51:05.0424981Z',\n",
       "  'time_coinapi': '2019-10-02T08:51:05.0424981Z',\n",
       "  'asks': [{'price': 4984.741762, 'size': 0.792},\n",
       "   {'price': 5002.646801, 'size': 0.082},\n",
       "   {'price': 5017.826611, 'size': 0.854},\n",
       "   {'price': 5022.29428, 'size': 0.0632},\n",
       "   {'price': 5024.390479, 'size': 7.8320132},\n",
       "   {'price': 5025.191897, 'size': 9.383},\n",
       "   {'price': 5026.482346, 'size': 11.8093},\n",
       "   {'price': 5027.053399, 'size': 0.494828},\n",
       "   {'price': 5029.461961, 'size': 7.923},\n",
       "   {'price': 5030.68384, 'size': 0.0643},\n",
       "   {'price': 5031.056164, 'size': 0.00372},\n",
       "   {'price': 5032.948216, 'size': 18.9},\n",
       "   {'price': 5033.06, 'size': 3.0},\n",
       "   {'price': 5033.25, 'size': 21.972},\n",
       "   {'price': 5036.59, 'size': 3.0237357},\n",
       "   {'price': 5039.93, 'size': 18.952752},\n",
       "   {'price': 5040.59, 'size': 6.2},\n",
       "   {'price': 5044.41, 'size': 10.5343923},\n",
       "   {'price': 5045.0, 'size': 8.4217},\n",
       "   {'price': 5045.78, 'size': 5.168}],\n",
       "  'bids': [{'price': 4960.564799, 'size': 0.18359},\n",
       "   {'price': 4955.564052, 'size': 1.0073752},\n",
       "   {'price': 4950.91, 'size': 10.45},\n",
       "   {'price': 4939.27, 'size': 10.027},\n",
       "   {'price': 4936.57, 'size': 2.0},\n",
       "   {'price': 4930.153826, 'size': 9.6403527},\n",
       "   {'price': 4929.37, 'size': 20.0},\n",
       "   {'price': 4924.98, 'size': 9.2089304},\n",
       "   {'price': 4924.07, 'size': 13.26},\n",
       "   {'price': 4921.34, 'size': 0.752333},\n",
       "   {'price': 4918.71, 'size': 8.0},\n",
       "   {'price': 4915.4, 'size': 4.73385},\n",
       "   {'price': 4913.43, 'size': 12.255087},\n",
       "   {'price': 4910.61, 'size': 18.5011432},\n",
       "   {'price': 4910.02, 'size': 7.4066},\n",
       "   {'price': 4900.89, 'size': 3.0},\n",
       "   {'price': 4899.21, 'size': 5.844},\n",
       "   {'price': 4892.01, 'size': 5.98701},\n",
       "   {'price': 4886.2, 'size': 16.0},\n",
       "   {'price': 4885.37, 'size': 12.8615}]},\n",
       " {'symbol_id': 'CATEX_SPOT_DASH_TRX',\n",
       "  'time_exchange': '2019-10-02T08:52:12.7496600Z',\n",
       "  'time_coinapi': '2019-10-02T08:52:12.7496600Z',\n",
       "  'asks': [{'price': 4984.741762, 'size': 0.792},\n",
       "   {'price': 5002.646801, 'size': 0.082},\n",
       "   {'price': 5017.826611, 'size': 0.854},\n",
       "   {'price': 5022.29428, 'size': 0.0632},\n",
       "   {'price': 5024.390479, 'size': 7.8320132},\n",
       "   {'price': 5025.191897, 'size': 9.383},\n",
       "   {'price': 5026.482346, 'size': 11.8093},\n",
       "   {'price': 5027.053399, 'size': 0.494828},\n",
       "   {'price': 5029.461961, 'size': 7.923},\n",
       "   {'price': 5030.68384, 'size': 0.0643},\n",
       "   {'price': 5031.056164, 'size': 0.00372},\n",
       "   {'price': 5032.948216, 'size': 18.9},\n",
       "   {'price': 5033.06, 'size': 3.0},\n",
       "   {'price': 5033.25, 'size': 21.972},\n",
       "   {'price': 5036.59, 'size': 3.0237357},\n",
       "   {'price': 5039.93, 'size': 18.952752},\n",
       "   {'price': 5040.59, 'size': 6.2},\n",
       "   {'price': 5044.41, 'size': 10.5343923},\n",
       "   {'price': 5045.0, 'size': 8.4217},\n",
       "   {'price': 5045.78, 'size': 5.168}],\n",
       "  'bids': [{'price': 4960.564799, 'size': 0.18359},\n",
       "   {'price': 4955.564052, 'size': 1.0073752},\n",
       "   {'price': 4950.91, 'size': 10.45},\n",
       "   {'price': 4939.27, 'size': 10.027},\n",
       "   {'price': 4936.57, 'size': 2.0},\n",
       "   {'price': 4930.153826, 'size': 9.6403527},\n",
       "   {'price': 4929.37, 'size': 20.0},\n",
       "   {'price': 4924.98, 'size': 9.2089304},\n",
       "   {'price': 4924.07, 'size': 13.26},\n",
       "   {'price': 4921.34, 'size': 0.752333},\n",
       "   {'price': 4918.71, 'size': 8.0},\n",
       "   {'price': 4915.4, 'size': 4.73385},\n",
       "   {'price': 4913.43, 'size': 12.255087},\n",
       "   {'price': 4910.61, 'size': 18.5011432},\n",
       "   {'price': 4910.02, 'size': 7.4066},\n",
       "   {'price': 4900.89, 'size': 3.0},\n",
       "   {'price': 4899.21, 'size': 5.844},\n",
       "   {'price': 4892.01, 'size': 5.98701},\n",
       "   {'price': 4886.2, 'size': 16.0},\n",
       "   {'price': 4885.37, 'size': 12.8615}]}]"
      ]
     },
     "execution_count": 22,
     "metadata": {},
     "output_type": "execute_result"
    }
   ],
   "source": [
    "history_order = res.json()\n",
    "history_order[:2]"
   ]
  },
  {
   "cell_type": "code",
   "execution_count": null,
   "metadata": {},
   "outputs": [],
   "source": []
  }
 ],
 "metadata": {
  "kernelspec": {
   "display_name": "Python 3",
   "language": "python",
   "name": "python3"
  },
  "language_info": {
   "codemirror_mode": {
    "name": "ipython",
    "version": 3
   },
   "file_extension": ".py",
   "mimetype": "text/x-python",
   "name": "python",
   "nbconvert_exporter": "python",
   "pygments_lexer": "ipython3",
   "version": "3.7.6"
  }
 },
 "nbformat": 4,
 "nbformat_minor": 1
}
